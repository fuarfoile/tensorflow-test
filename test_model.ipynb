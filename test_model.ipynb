{
 "cells": [
  {
   "cell_type": "code",
   "execution_count": null,
   "metadata": {},
   "outputs": [],
   "source": [
    "import tensorflow as tf\n",
    "\n",
    "def getData(path):\n",
    "    folders = tf.io.gfile.listdir(path)\n",
    "    allFiles = []\n",
    "\n",
    "    for i in range(len(folders)):\n",
    "        files = tf.io.gfile.listdir(path + '\\\\' + folders[i])\n",
    "        allFiles.extend(list(map(lambda f: [path + '\\\\' + folders[i] + '\\\\' + f, i], files)))\n",
    "\n",
    "    images = []\n",
    "    labels = []\n",
    "\n",
    "    for file, i in allFiles:\n",
    "        img_raw = tf.io.read_file(file)\n",
    "        img = tf.io.decode_image(img_raw, channels=3)\n",
    "        img = tf.image.resize(img, [28,28], method='bilinear')\n",
    "        img = img / 255\n",
    "        images.append(img)\n",
    "        labels.append(i)\n",
    "    \n",
    "    return tf.stack(images), tf.one_hot(labels, 6)\n",
    "\n",
    "model = tf.keras.models.load_model('test_model')\n",
    "\n",
    "test_data, test_labels = getData('data\\seg_pred\\seg_pred')\n",
    "loss, acc = model.evaluate(test_data, test_labels)\n",
    "\n",
    "print('\\nloss', loss)\n",
    "print('accuracy', acc)"
   ]
  }
 ],
 "metadata": {
  "kernelspec": {
   "display_name": "Python 3",
   "language": "python",
   "name": "python3"
  },
  "language_info": {
   "codemirror_mode": {
    "name": "ipython",
    "version": 3
   },
   "file_extension": ".py",
   "mimetype": "text/x-python",
   "name": "python",
   "nbconvert_exporter": "python",
   "pygments_lexer": "ipython3",
   "version": "3.8.5"
  }
 },
 "nbformat": 4,
 "nbformat_minor": 4
}
